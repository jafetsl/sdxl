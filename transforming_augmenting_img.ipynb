{
 "cells": [
  {
   "cell_type": "code",
   "execution_count": 90,
   "metadata": {},
   "outputs": [],
   "source": [
    "import torch\n",
    "from PIL import Image\n",
    "import numpy as np\n",
    "import matplotlib.pyplot as plt\n",
    "from torchvision.transforms import v2\n",
    "import os"
   ]
  },
  {
   "cell_type": "code",
   "execution_count": 94,
   "metadata": {},
   "outputs": [],
   "source": [
    "def show_img(image:torch.Tensor)->None:\n",
    "    print(image.shape)\n",
    "    temp = image.numpy().transpose(1,2,0)\n",
    "    print(temp.shape)\n",
    "    plt.imshow(image.numpy().transpose(1,2,0))\n",
    "\n",
    "def augment_img(image:torch.Tensor)->torch.Tensor:\n",
    "    transformations = v2.Compose([\n",
    "        v2.RandomHorizontalFlip(p=0.5),\n",
    "        #v2.RandomVerticalFlip(p=0.8),\n",
    "        v2.RandomRotation(degrees=60),\n",
    "        v2.Resize([1024,1024]),\n",
    "        v2.RandomPerspective(distortion_scale=0.1,p=0.5),\n",
    "        #v2.ColorJitter(0.5,0.5)\n",
    "    ])\n",
    "    return transformations(image)\n",
    "\n",
    "\n",
    "def load_and_tranform_images(path:str,output_path:str):\n",
    "    files = os.listdir(path)\n",
    "    for file in files:\n",
    "        img = Image.open(path+file)\n",
    "        tensor = v2.ToTensor()(img)\n",
    "        output = augment_img(tensor)\n",
    "        output = output.numpy().transpose(1,2,0)\n",
    "        output.save(output_path+file)\n"
   ]
  },
  {
   "cell_type": "code",
   "execution_count": 95,
   "metadata": {},
   "outputs": [
    {
     "name": "stderr",
     "output_type": "stream",
     "text": [
      "/home/jafet/Desktop/sd_test/venv/lib/python3.10/site-packages/torchvision/transforms/v2/_deprecated.py:43: UserWarning: The transform `ToTensor()` is deprecated and will be removed in a future release. Instead, please use `v2.Compose([v2.ToImage(), v2.ToDtype(torch.float32, scale=True)])`.\n",
      "  warnings.warn(\n",
      "/home/jafet/Desktop/sd_test/venv/lib/python3.10/site-packages/torchvision/transforms/functional.py:1603: UserWarning: The default value of the antialias parameter of all the resizing transforms (Resize(), RandomResizedCrop(), etc.) will change from None to True in v0.17, in order to be consistent across the PIL and Tensor backends. To suppress this warning, directly pass antialias=True (recommended, future default), antialias=None (current default, which means False for Tensors and True for PIL), or antialias=False (only works on Tensors - PIL will still use antialiasing). This also applies if you are using the inference transforms from the models weights: update the call to weights.transforms(antialias=True).\n",
      "  warnings.warn(\n"
     ]
    },
    {
     "ename": "AttributeError",
     "evalue": "'numpy.ndarray' object has no attribute 'save'",
     "output_type": "error",
     "traceback": [
      "\u001b[0;31m---------------------------------------------------------------------------\u001b[0m",
      "\u001b[0;31mAttributeError\u001b[0m                            Traceback (most recent call last)",
      "\u001b[1;32m/home/jafet/Desktop/sd_test/transforming_augmenting_img.ipynb Cell 3\u001b[0m line \u001b[0;36m1\n\u001b[0;32m----> <a href='vscode-notebook-cell:/home/jafet/Desktop/sd_test/transforming_augmenting_img.ipynb#X15sZmlsZQ%3D%3D?line=0'>1</a>\u001b[0m load_and_tranform_images(\u001b[39m\"\u001b[39;49m\u001b[39mrem/\u001b[39;49m\u001b[39m\"\u001b[39;49m,\u001b[39m\"\u001b[39;49m\u001b[39mdata_augmented/\u001b[39;49m\u001b[39m\"\u001b[39;49m)\n",
      "\u001b[1;32m/home/jafet/Desktop/sd_test/transforming_augmenting_img.ipynb Cell 3\u001b[0m line \u001b[0;36m2\n\u001b[1;32m     <a href='vscode-notebook-cell:/home/jafet/Desktop/sd_test/transforming_augmenting_img.ipynb#X15sZmlsZQ%3D%3D?line=23'>24</a>\u001b[0m output \u001b[39m=\u001b[39m augment_img(tensor)\n\u001b[1;32m     <a href='vscode-notebook-cell:/home/jafet/Desktop/sd_test/transforming_augmenting_img.ipynb#X15sZmlsZQ%3D%3D?line=24'>25</a>\u001b[0m output \u001b[39m=\u001b[39m output\u001b[39m.\u001b[39mnumpy()\u001b[39m.\u001b[39mtranspose(\u001b[39m1\u001b[39m,\u001b[39m2\u001b[39m,\u001b[39m0\u001b[39m)\n\u001b[0;32m---> <a href='vscode-notebook-cell:/home/jafet/Desktop/sd_test/transforming_augmenting_img.ipynb#X15sZmlsZQ%3D%3D?line=25'>26</a>\u001b[0m output\u001b[39m.\u001b[39;49msave(output_path\u001b[39m+\u001b[39mfile)\n",
      "\u001b[0;31mAttributeError\u001b[0m: 'numpy.ndarray' object has no attribute 'save'"
     ]
    }
   ],
   "source": [
    "load_and_tranform_images(\"rem/\",\"data_augmented/\")"
   ]
  },
  {
   "cell_type": "code",
   "execution_count": null,
   "metadata": {},
   "outputs": [],
   "source": []
  }
 ],
 "metadata": {
  "kernelspec": {
   "display_name": "venv",
   "language": "python",
   "name": "python3"
  },
  "language_info": {
   "codemirror_mode": {
    "name": "ipython",
    "version": 3
   },
   "file_extension": ".py",
   "mimetype": "text/x-python",
   "name": "python",
   "nbconvert_exporter": "python",
   "pygments_lexer": "ipython3",
   "version": "3.10.12"
  }
 },
 "nbformat": 4,
 "nbformat_minor": 2
}
