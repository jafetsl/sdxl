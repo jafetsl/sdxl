{
 "cells": [
  {
   "cell_type": "code",
   "execution_count": 1,
   "metadata": {},
   "outputs": [
    {
     "name": "stdout",
     "output_type": "stream",
     "text": [
      "WARNING:tensorflow:From c:\\Users\\jafet\\anaconda3\\Lib\\site-packages\\keras\\src\\losses.py:2976: The name tf.losses.sparse_softmax_cross_entropy is deprecated. Please use tf.compat.v1.losses.sparse_softmax_cross_entropy instead.\n",
      "\n"
     ]
    }
   ],
   "source": [
    "# Use a pipeline as a high-level helper\n",
    "from transformers import pipeline\n",
    "from huggingface_hub import from_pretrained_keras\n",
    "\n",
    "def generate_caption_and_tags(path:str):\n",
    "    captioner = pipeline(\"image-to-text\", model=\"Salesforce/blip-image-captioning-base\")\n",
    "    tagger = from_pretrained_keras(\"SmilingWolf/wd-v1-4-vit-tagger\")\n",
    "\n",
    "    return captioner(path), tagger(path)"
   ]
  },
  {
   "cell_type": "code",
   "execution_count": 2,
   "metadata": {},
   "outputs": [
    {
     "data": {
      "application/vnd.jupyter.widget-view+json": {
       "model_id": "0c2b820d30a34de08ac18af5be79beb2",
       "version_major": 2,
       "version_minor": 0
      },
      "text/plain": [
       "Fetching 7 files:   0%|          | 0/7 [00:00<?, ?it/s]"
      ]
     },
     "metadata": {},
     "output_type": "display_data"
    },
    {
     "data": {
      "application/vnd.jupyter.widget-view+json": {
       "model_id": "335c90244d5a4de4a663642e920fceab",
       "version_major": 2,
       "version_minor": 0
      },
      "text/plain": [
       "selected_tags.csv:   0%|          | 0.00/174k [00:00<?, ?B/s]"
      ]
     },
     "metadata": {},
     "output_type": "display_data"
    },
    {
     "data": {
      "application/vnd.jupyter.widget-view+json": {
       "model_id": "725e465db847454ebaec26346f439054",
       "version_major": 2,
       "version_minor": 0
      },
      "text/plain": [
       ".gitattributes:   0%|          | 0.00/1.48k [00:00<?, ?B/s]"
      ]
     },
     "metadata": {},
     "output_type": "display_data"
    },
    {
     "name": "stderr",
     "output_type": "stream",
     "text": [
      "c:\\Users\\jafet\\anaconda3\\Lib\\site-packages\\huggingface_hub\\file_download.py:147: UserWarning: `huggingface_hub` cache-system uses symlinks by default to efficiently store duplicated files but your machine does not support them in C:\\Users\\jafet\\.cache\\huggingface\\hub. Caching files will still work but in a degraded version that might require more space on your disk. This warning can be disabled by setting the `HF_HUB_DISABLE_SYMLINKS_WARNING` environment variable. For more details, see https://huggingface.co/docs/huggingface_hub/how-to-cache#limitations.\n",
      "To support symlinks on Windows, you either need to activate Developer Mode or to run Python as an administrator. In order to see activate developer mode, see this article: https://docs.microsoft.com/en-us/windows/apps/get-started/enable-your-device-for-development\n",
      "  warnings.warn(message)\n"
     ]
    },
    {
     "data": {
      "application/vnd.jupyter.widget-view+json": {
       "model_id": "e9dcc42577de4d32a33e0aa863d26fa1",
       "version_major": 2,
       "version_minor": 0
      },
      "text/plain": [
       "variables.index:   0%|          | 0.00/13.8k [00:00<?, ?B/s]"
      ]
     },
     "metadata": {},
     "output_type": "display_data"
    },
    {
     "data": {
      "application/vnd.jupyter.widget-view+json": {
       "model_id": "b8a7a55bf58d42ce8152fcbb28072187",
       "version_major": 2,
       "version_minor": 0
      },
      "text/plain": [
       "variables.data-00000-of-00001:   0%|          | 0.00/365M [00:00<?, ?B/s]"
      ]
     },
     "metadata": {},
     "output_type": "display_data"
    },
    {
     "data": {
      "application/vnd.jupyter.widget-view+json": {
       "model_id": "935d3304ac824ef59edc581df73a2282",
       "version_major": 2,
       "version_minor": 0
      },
      "text/plain": [
       "model.onnx:   0%|          | 0.00/365M [00:00<?, ?B/s]"
      ]
     },
     "metadata": {},
     "output_type": "display_data"
    },
    {
     "data": {
      "application/vnd.jupyter.widget-view+json": {
       "model_id": "2b6559b7120b437cb54aade5c4f59417",
       "version_major": 2,
       "version_minor": 0
      },
      "text/plain": [
       "keras_metadata.pb:   0%|          | 0.00/328k [00:00<?, ?B/s]"
      ]
     },
     "metadata": {},
     "output_type": "display_data"
    },
    {
     "data": {
      "application/vnd.jupyter.widget-view+json": {
       "model_id": "62cbd8786f3445a19a02de62cf208333",
       "version_major": 2,
       "version_minor": 0
      },
      "text/plain": [
       "saved_model.pb:   0%|          | 0.00/3.81M [00:00<?, ?B/s]"
      ]
     },
     "metadata": {},
     "output_type": "display_data"
    },
    {
     "ename": "OSError",
     "evalue": "[WinError 1314] A required privilege is not held by the client: '..\\\\..\\\\blobs\\\\33ab5e6f93fe352338b6837f32849e9815c3bd08' -> 'C:\\\\Users\\\\jafet\\\\.cache\\\\huggingface\\\\hub\\\\models--SmilingWolf--wd-v1-4-vit-tagger\\\\snapshots\\\\213a7bd66d93407911b8217e806a95edc3593eed\\\\selected_tags.csv'",
     "output_type": "error",
     "traceback": [
      "\u001b[1;31m---------------------------------------------------------------------------\u001b[0m",
      "\u001b[1;31mOSError\u001b[0m                                   Traceback (most recent call last)",
      "\u001b[1;32mc:\\Users\\jafet\\Documents\\sd_finetunning\\preprocessing.ipynb Cell 2\u001b[0m line \u001b[0;36m1\n\u001b[1;32m----> <a href='vscode-notebook-cell:/c%3A/Users/jafet/Documents/sd_finetunning/preprocessing.ipynb#W1sZmlsZQ%3D%3D?line=0'>1</a>\u001b[0m x,y  \u001b[39m=\u001b[39m generate_caption_and_tags(\u001b[39m\"\u001b[39m\u001b[39mimages/rem_1.jpg\u001b[39m\u001b[39m\"\u001b[39m)\n",
      "\u001b[1;32mc:\\Users\\jafet\\Documents\\sd_finetunning\\preprocessing.ipynb Cell 2\u001b[0m line \u001b[0;36m7\n\u001b[0;32m      <a href='vscode-notebook-cell:/c%3A/Users/jafet/Documents/sd_finetunning/preprocessing.ipynb#W1sZmlsZQ%3D%3D?line=4'>5</a>\u001b[0m \u001b[39mdef\u001b[39;00m \u001b[39mgenerate_caption_and_tags\u001b[39m(path:\u001b[39mstr\u001b[39m):\n\u001b[0;32m      <a href='vscode-notebook-cell:/c%3A/Users/jafet/Documents/sd_finetunning/preprocessing.ipynb#W1sZmlsZQ%3D%3D?line=5'>6</a>\u001b[0m     captioner \u001b[39m=\u001b[39m pipeline(\u001b[39m\"\u001b[39m\u001b[39mimage-to-text\u001b[39m\u001b[39m\"\u001b[39m, model\u001b[39m=\u001b[39m\u001b[39m\"\u001b[39m\u001b[39mSalesforce/blip-image-captioning-base\u001b[39m\u001b[39m\"\u001b[39m)\n\u001b[1;32m----> <a href='vscode-notebook-cell:/c%3A/Users/jafet/Documents/sd_finetunning/preprocessing.ipynb#W1sZmlsZQ%3D%3D?line=6'>7</a>\u001b[0m     tagger \u001b[39m=\u001b[39m from_pretrained_keras(\u001b[39m\"\u001b[39m\u001b[39mSmilingWolf/wd-v1-4-vit-tagger\u001b[39m\u001b[39m\"\u001b[39m)\n\u001b[0;32m      <a href='vscode-notebook-cell:/c%3A/Users/jafet/Documents/sd_finetunning/preprocessing.ipynb#W1sZmlsZQ%3D%3D?line=8'>9</a>\u001b[0m     \u001b[39mreturn\u001b[39;00m captioner(path), tagger(path)\n",
      "File \u001b[1;32mc:\\Users\\jafet\\anaconda3\\Lib\\site-packages\\huggingface_hub\\keras_mixin.py:272\u001b[0m, in \u001b[0;36mfrom_pretrained_keras\u001b[1;34m(*args, **kwargs)\u001b[0m\n\u001b[0;32m    216\u001b[0m \u001b[39mdef\u001b[39;00m \u001b[39mfrom_pretrained_keras\u001b[39m(\u001b[39m*\u001b[39margs, \u001b[39m*\u001b[39m\u001b[39m*\u001b[39mkwargs) \u001b[39m-\u001b[39m\u001b[39m>\u001b[39m \u001b[39m\"\u001b[39m\u001b[39mKerasModelHubMixin\u001b[39m\u001b[39m\"\u001b[39m:\n\u001b[0;32m    217\u001b[0m \u001b[39m    \u001b[39m\u001b[39mr\u001b[39m\u001b[39m\"\"\"\u001b[39;00m\n\u001b[0;32m    218\u001b[0m \u001b[39m    Instantiate a pretrained Keras model from a pre-trained model from the Hub.\u001b[39;00m\n\u001b[0;32m    219\u001b[0m \u001b[39m    The model is expected to be in `SavedModel` format.\u001b[39;00m\n\u001b[1;32m   (...)\u001b[0m\n\u001b[0;32m    270\u001b[0m \u001b[39m    </Tip>\u001b[39;00m\n\u001b[0;32m    271\u001b[0m \u001b[39m    \"\"\"\u001b[39;00m\n\u001b[1;32m--> 272\u001b[0m     \u001b[39mreturn\u001b[39;00m KerasModelHubMixin\u001b[39m.\u001b[39mfrom_pretrained(\u001b[39m*\u001b[39margs, \u001b[39m*\u001b[39m\u001b[39m*\u001b[39mkwargs)\n",
      "File \u001b[1;32mc:\\Users\\jafet\\anaconda3\\Lib\\site-packages\\huggingface_hub\\utils\\_validators.py:118\u001b[0m, in \u001b[0;36mvalidate_hf_hub_args.<locals>._inner_fn\u001b[1;34m(*args, **kwargs)\u001b[0m\n\u001b[0;32m    115\u001b[0m \u001b[39mif\u001b[39;00m check_use_auth_token:\n\u001b[0;32m    116\u001b[0m     kwargs \u001b[39m=\u001b[39m smoothly_deprecate_use_auth_token(fn_name\u001b[39m=\u001b[39mfn\u001b[39m.\u001b[39m\u001b[39m__name__\u001b[39m, has_token\u001b[39m=\u001b[39mhas_token, kwargs\u001b[39m=\u001b[39mkwargs)\n\u001b[1;32m--> 118\u001b[0m \u001b[39mreturn\u001b[39;00m fn(\u001b[39m*\u001b[39margs, \u001b[39m*\u001b[39m\u001b[39m*\u001b[39mkwargs)\n",
      "File \u001b[1;32mc:\\Users\\jafet\\anaconda3\\Lib\\site-packages\\huggingface_hub\\hub_mixin.py:157\u001b[0m, in \u001b[0;36mModelHubMixin.from_pretrained\u001b[1;34m(cls, pretrained_model_name_or_path, force_download, resume_download, proxies, token, cache_dir, local_files_only, revision, **model_kwargs)\u001b[0m\n\u001b[0;32m    154\u001b[0m         config \u001b[39m=\u001b[39m json\u001b[39m.\u001b[39mload(f)\n\u001b[0;32m    155\u001b[0m     model_kwargs\u001b[39m.\u001b[39mupdate({\u001b[39m\"\u001b[39m\u001b[39mconfig\u001b[39m\u001b[39m\"\u001b[39m: config})\n\u001b[1;32m--> 157\u001b[0m \u001b[39mreturn\u001b[39;00m \u001b[39mcls\u001b[39m\u001b[39m.\u001b[39m_from_pretrained(\n\u001b[0;32m    158\u001b[0m     model_id\u001b[39m=\u001b[39m\u001b[39mstr\u001b[39m(model_id),\n\u001b[0;32m    159\u001b[0m     revision\u001b[39m=\u001b[39mrevision,\n\u001b[0;32m    160\u001b[0m     cache_dir\u001b[39m=\u001b[39mcache_dir,\n\u001b[0;32m    161\u001b[0m     force_download\u001b[39m=\u001b[39mforce_download,\n\u001b[0;32m    162\u001b[0m     proxies\u001b[39m=\u001b[39mproxies,\n\u001b[0;32m    163\u001b[0m     resume_download\u001b[39m=\u001b[39mresume_download,\n\u001b[0;32m    164\u001b[0m     local_files_only\u001b[39m=\u001b[39mlocal_files_only,\n\u001b[0;32m    165\u001b[0m     token\u001b[39m=\u001b[39mtoken,\n\u001b[0;32m    166\u001b[0m     \u001b[39m*\u001b[39m\u001b[39m*\u001b[39mmodel_kwargs,\n\u001b[0;32m    167\u001b[0m )\n",
      "File \u001b[1;32mc:\\Users\\jafet\\anaconda3\\Lib\\site-packages\\huggingface_hub\\keras_mixin.py:465\u001b[0m, in \u001b[0;36mKerasModelHubMixin._from_pretrained\u001b[1;34m(cls, model_id, revision, cache_dir, force_download, proxies, resume_download, local_files_only, token, **model_kwargs)\u001b[0m\n\u001b[0;32m    463\u001b[0m \u001b[39m# Root is either a local filepath matching model_id or a cached snapshot\u001b[39;00m\n\u001b[0;32m    464\u001b[0m \u001b[39mif\u001b[39;00m \u001b[39mnot\u001b[39;00m os\u001b[39m.\u001b[39mpath\u001b[39m.\u001b[39misdir(model_id):\n\u001b[1;32m--> 465\u001b[0m     storage_folder \u001b[39m=\u001b[39m snapshot_download(\n\u001b[0;32m    466\u001b[0m         repo_id\u001b[39m=\u001b[39mmodel_id,\n\u001b[0;32m    467\u001b[0m         revision\u001b[39m=\u001b[39mrevision,\n\u001b[0;32m    468\u001b[0m         cache_dir\u001b[39m=\u001b[39mcache_dir,\n\u001b[0;32m    469\u001b[0m         library_name\u001b[39m=\u001b[39m\u001b[39m\"\u001b[39m\u001b[39mkeras\u001b[39m\u001b[39m\"\u001b[39m,\n\u001b[0;32m    470\u001b[0m         library_version\u001b[39m=\u001b[39mget_tf_version(),\n\u001b[0;32m    471\u001b[0m     )\n\u001b[0;32m    472\u001b[0m \u001b[39melse\u001b[39;00m:\n\u001b[0;32m    473\u001b[0m     storage_folder \u001b[39m=\u001b[39m model_id\n",
      "File \u001b[1;32mc:\\Users\\jafet\\anaconda3\\Lib\\site-packages\\huggingface_hub\\utils\\_validators.py:118\u001b[0m, in \u001b[0;36mvalidate_hf_hub_args.<locals>._inner_fn\u001b[1;34m(*args, **kwargs)\u001b[0m\n\u001b[0;32m    115\u001b[0m \u001b[39mif\u001b[39;00m check_use_auth_token:\n\u001b[0;32m    116\u001b[0m     kwargs \u001b[39m=\u001b[39m smoothly_deprecate_use_auth_token(fn_name\u001b[39m=\u001b[39mfn\u001b[39m.\u001b[39m\u001b[39m__name__\u001b[39m, has_token\u001b[39m=\u001b[39mhas_token, kwargs\u001b[39m=\u001b[39mkwargs)\n\u001b[1;32m--> 118\u001b[0m \u001b[39mreturn\u001b[39;00m fn(\u001b[39m*\u001b[39margs, \u001b[39m*\u001b[39m\u001b[39m*\u001b[39mkwargs)\n",
      "File \u001b[1;32mc:\\Users\\jafet\\anaconda3\\Lib\\site-packages\\huggingface_hub\\_snapshot_download.py:238\u001b[0m, in \u001b[0;36msnapshot_download\u001b[1;34m(repo_id, repo_type, revision, cache_dir, local_dir, local_dir_use_symlinks, library_name, library_version, user_agent, proxies, etag_timeout, resume_download, force_download, token, local_files_only, allow_patterns, ignore_patterns, max_workers, tqdm_class, endpoint)\u001b[0m\n\u001b[0;32m    236\u001b[0m         _inner_hf_hub_download(file)\n\u001b[0;32m    237\u001b[0m \u001b[39melse\u001b[39;00m:\n\u001b[1;32m--> 238\u001b[0m     thread_map(\n\u001b[0;32m    239\u001b[0m         _inner_hf_hub_download,\n\u001b[0;32m    240\u001b[0m         filtered_repo_files,\n\u001b[0;32m    241\u001b[0m         desc\u001b[39m=\u001b[39m\u001b[39mf\u001b[39m\u001b[39m\"\u001b[39m\u001b[39mFetching \u001b[39m\u001b[39m{\u001b[39;00m\u001b[39mlen\u001b[39m(filtered_repo_files)\u001b[39m}\u001b[39;00m\u001b[39m files\u001b[39m\u001b[39m\"\u001b[39m,\n\u001b[0;32m    242\u001b[0m         max_workers\u001b[39m=\u001b[39mmax_workers,\n\u001b[0;32m    243\u001b[0m         \u001b[39m# User can use its own tqdm class or the default one from `huggingface_hub.utils`\u001b[39;00m\n\u001b[0;32m    244\u001b[0m         tqdm_class\u001b[39m=\u001b[39mtqdm_class \u001b[39mor\u001b[39;00m hf_tqdm,\n\u001b[0;32m    245\u001b[0m     )\n\u001b[0;32m    247\u001b[0m \u001b[39mif\u001b[39;00m local_dir \u001b[39mis\u001b[39;00m \u001b[39mnot\u001b[39;00m \u001b[39mNone\u001b[39;00m:\n\u001b[0;32m    248\u001b[0m     \u001b[39mreturn\u001b[39;00m \u001b[39mstr\u001b[39m(os\u001b[39m.\u001b[39mpath\u001b[39m.\u001b[39mrealpath(local_dir))\n",
      "File \u001b[1;32mc:\\Users\\jafet\\anaconda3\\Lib\\site-packages\\tqdm\\contrib\\concurrent.py:69\u001b[0m, in \u001b[0;36mthread_map\u001b[1;34m(fn, *iterables, **tqdm_kwargs)\u001b[0m\n\u001b[0;32m     55\u001b[0m \u001b[39m\u001b[39m\u001b[39m\"\"\"\u001b[39;00m\n\u001b[0;32m     56\u001b[0m \u001b[39mEquivalent of `list(map(fn, *iterables))`\u001b[39;00m\n\u001b[0;32m     57\u001b[0m \u001b[39mdriven by `concurrent.futures.ThreadPoolExecutor`.\u001b[39;00m\n\u001b[1;32m   (...)\u001b[0m\n\u001b[0;32m     66\u001b[0m \u001b[39m    [default: max(32, cpu_count() + 4)].\u001b[39;00m\n\u001b[0;32m     67\u001b[0m \u001b[39m\"\"\"\u001b[39;00m\n\u001b[0;32m     68\u001b[0m \u001b[39mfrom\u001b[39;00m \u001b[39mconcurrent\u001b[39;00m\u001b[39m.\u001b[39;00m\u001b[39mfutures\u001b[39;00m \u001b[39mimport\u001b[39;00m ThreadPoolExecutor\n\u001b[1;32m---> 69\u001b[0m \u001b[39mreturn\u001b[39;00m _executor_map(ThreadPoolExecutor, fn, \u001b[39m*\u001b[39miterables, \u001b[39m*\u001b[39m\u001b[39m*\u001b[39mtqdm_kwargs)\n",
      "File \u001b[1;32mc:\\Users\\jafet\\anaconda3\\Lib\\site-packages\\tqdm\\contrib\\concurrent.py:51\u001b[0m, in \u001b[0;36m_executor_map\u001b[1;34m(PoolExecutor, fn, *iterables, **tqdm_kwargs)\u001b[0m\n\u001b[0;32m     47\u001b[0m \u001b[39mwith\u001b[39;00m ensure_lock(tqdm_class, lock_name\u001b[39m=\u001b[39mlock_name) \u001b[39mas\u001b[39;00m lk:\n\u001b[0;32m     48\u001b[0m     \u001b[39m# share lock in case workers are already using `tqdm`\u001b[39;00m\n\u001b[0;32m     49\u001b[0m     \u001b[39mwith\u001b[39;00m PoolExecutor(max_workers\u001b[39m=\u001b[39mmax_workers, initializer\u001b[39m=\u001b[39mtqdm_class\u001b[39m.\u001b[39mset_lock,\n\u001b[0;32m     50\u001b[0m                       initargs\u001b[39m=\u001b[39m(lk,)) \u001b[39mas\u001b[39;00m ex:\n\u001b[1;32m---> 51\u001b[0m         \u001b[39mreturn\u001b[39;00m \u001b[39mlist\u001b[39m(tqdm_class(ex\u001b[39m.\u001b[39mmap(fn, \u001b[39m*\u001b[39miterables, chunksize\u001b[39m=\u001b[39mchunksize), \u001b[39m*\u001b[39m\u001b[39m*\u001b[39mkwargs))\n",
      "File \u001b[1;32mc:\\Users\\jafet\\anaconda3\\Lib\\site-packages\\tqdm\\notebook.py:254\u001b[0m, in \u001b[0;36mtqdm_notebook.__iter__\u001b[1;34m(self)\u001b[0m\n\u001b[0;32m    252\u001b[0m \u001b[39mtry\u001b[39;00m:\n\u001b[0;32m    253\u001b[0m     it \u001b[39m=\u001b[39m \u001b[39msuper\u001b[39m(tqdm_notebook, \u001b[39mself\u001b[39m)\u001b[39m.\u001b[39m\u001b[39m__iter__\u001b[39m()\n\u001b[1;32m--> 254\u001b[0m     \u001b[39mfor\u001b[39;00m obj \u001b[39min\u001b[39;00m it:\n\u001b[0;32m    255\u001b[0m         \u001b[39m# return super(tqdm...) will not catch exception\u001b[39;00m\n\u001b[0;32m    256\u001b[0m         \u001b[39myield\u001b[39;00m obj\n\u001b[0;32m    257\u001b[0m \u001b[39m# NB: except ... [ as ...] breaks IPython async KeyboardInterrupt\u001b[39;00m\n",
      "File \u001b[1;32mc:\\Users\\jafet\\anaconda3\\Lib\\site-packages\\tqdm\\std.py:1178\u001b[0m, in \u001b[0;36mtqdm.__iter__\u001b[1;34m(self)\u001b[0m\n\u001b[0;32m   1175\u001b[0m time \u001b[39m=\u001b[39m \u001b[39mself\u001b[39m\u001b[39m.\u001b[39m_time\n\u001b[0;32m   1177\u001b[0m \u001b[39mtry\u001b[39;00m:\n\u001b[1;32m-> 1178\u001b[0m     \u001b[39mfor\u001b[39;00m obj \u001b[39min\u001b[39;00m iterable:\n\u001b[0;32m   1179\u001b[0m         \u001b[39myield\u001b[39;00m obj\n\u001b[0;32m   1180\u001b[0m         \u001b[39m# Update and possibly print the progressbar.\u001b[39;00m\n\u001b[0;32m   1181\u001b[0m         \u001b[39m# Note: does not call self.update(1) for speed optimisation.\u001b[39;00m\n",
      "File \u001b[1;32mc:\\Users\\jafet\\anaconda3\\Lib\\concurrent\\futures\\_base.py:619\u001b[0m, in \u001b[0;36mExecutor.map.<locals>.result_iterator\u001b[1;34m()\u001b[0m\n\u001b[0;32m    616\u001b[0m \u001b[39mwhile\u001b[39;00m fs:\n\u001b[0;32m    617\u001b[0m     \u001b[39m# Careful not to keep a reference to the popped future\u001b[39;00m\n\u001b[0;32m    618\u001b[0m     \u001b[39mif\u001b[39;00m timeout \u001b[39mis\u001b[39;00m \u001b[39mNone\u001b[39;00m:\n\u001b[1;32m--> 619\u001b[0m         \u001b[39myield\u001b[39;00m _result_or_cancel(fs\u001b[39m.\u001b[39mpop())\n\u001b[0;32m    620\u001b[0m     \u001b[39melse\u001b[39;00m:\n\u001b[0;32m    621\u001b[0m         \u001b[39myield\u001b[39;00m _result_or_cancel(fs\u001b[39m.\u001b[39mpop(), end_time \u001b[39m-\u001b[39m time\u001b[39m.\u001b[39mmonotonic())\n",
      "File \u001b[1;32mc:\\Users\\jafet\\anaconda3\\Lib\\concurrent\\futures\\_base.py:317\u001b[0m, in \u001b[0;36m_result_or_cancel\u001b[1;34m(***failed resolving arguments***)\u001b[0m\n\u001b[0;32m    315\u001b[0m \u001b[39mtry\u001b[39;00m:\n\u001b[0;32m    316\u001b[0m     \u001b[39mtry\u001b[39;00m:\n\u001b[1;32m--> 317\u001b[0m         \u001b[39mreturn\u001b[39;00m fut\u001b[39m.\u001b[39mresult(timeout)\n\u001b[0;32m    318\u001b[0m     \u001b[39mfinally\u001b[39;00m:\n\u001b[0;32m    319\u001b[0m         fut\u001b[39m.\u001b[39mcancel()\n",
      "File \u001b[1;32mc:\\Users\\jafet\\anaconda3\\Lib\\concurrent\\futures\\_base.py:449\u001b[0m, in \u001b[0;36mFuture.result\u001b[1;34m(self, timeout)\u001b[0m\n\u001b[0;32m    447\u001b[0m     \u001b[39mraise\u001b[39;00m CancelledError()\n\u001b[0;32m    448\u001b[0m \u001b[39melif\u001b[39;00m \u001b[39mself\u001b[39m\u001b[39m.\u001b[39m_state \u001b[39m==\u001b[39m FINISHED:\n\u001b[1;32m--> 449\u001b[0m     \u001b[39mreturn\u001b[39;00m \u001b[39mself\u001b[39m\u001b[39m.\u001b[39m__get_result()\n\u001b[0;32m    451\u001b[0m \u001b[39mself\u001b[39m\u001b[39m.\u001b[39m_condition\u001b[39m.\u001b[39mwait(timeout)\n\u001b[0;32m    453\u001b[0m \u001b[39mif\u001b[39;00m \u001b[39mself\u001b[39m\u001b[39m.\u001b[39m_state \u001b[39min\u001b[39;00m [CANCELLED, CANCELLED_AND_NOTIFIED]:\n",
      "File \u001b[1;32mc:\\Users\\jafet\\anaconda3\\Lib\\concurrent\\futures\\_base.py:401\u001b[0m, in \u001b[0;36mFuture.__get_result\u001b[1;34m(self)\u001b[0m\n\u001b[0;32m    399\u001b[0m \u001b[39mif\u001b[39;00m \u001b[39mself\u001b[39m\u001b[39m.\u001b[39m_exception:\n\u001b[0;32m    400\u001b[0m     \u001b[39mtry\u001b[39;00m:\n\u001b[1;32m--> 401\u001b[0m         \u001b[39mraise\u001b[39;00m \u001b[39mself\u001b[39m\u001b[39m.\u001b[39m_exception\n\u001b[0;32m    402\u001b[0m     \u001b[39mfinally\u001b[39;00m:\n\u001b[0;32m    403\u001b[0m         \u001b[39m# Break a reference cycle with the exception in self._exception\u001b[39;00m\n\u001b[0;32m    404\u001b[0m         \u001b[39mself\u001b[39m \u001b[39m=\u001b[39m \u001b[39mNone\u001b[39;00m\n",
      "File \u001b[1;32mc:\\Users\\jafet\\anaconda3\\Lib\\concurrent\\futures\\thread.py:58\u001b[0m, in \u001b[0;36m_WorkItem.run\u001b[1;34m(self)\u001b[0m\n\u001b[0;32m     55\u001b[0m     \u001b[39mreturn\u001b[39;00m\n\u001b[0;32m     57\u001b[0m \u001b[39mtry\u001b[39;00m:\n\u001b[1;32m---> 58\u001b[0m     result \u001b[39m=\u001b[39m \u001b[39mself\u001b[39m\u001b[39m.\u001b[39mfn(\u001b[39m*\u001b[39m\u001b[39mself\u001b[39m\u001b[39m.\u001b[39margs, \u001b[39m*\u001b[39m\u001b[39m*\u001b[39m\u001b[39mself\u001b[39m\u001b[39m.\u001b[39mkwargs)\n\u001b[0;32m     59\u001b[0m \u001b[39mexcept\u001b[39;00m \u001b[39mBaseException\u001b[39;00m \u001b[39mas\u001b[39;00m exc:\n\u001b[0;32m     60\u001b[0m     \u001b[39mself\u001b[39m\u001b[39m.\u001b[39mfuture\u001b[39m.\u001b[39mset_exception(exc)\n",
      "File \u001b[1;32mc:\\Users\\jafet\\anaconda3\\Lib\\site-packages\\huggingface_hub\\_snapshot_download.py:213\u001b[0m, in \u001b[0;36msnapshot_download.<locals>._inner_hf_hub_download\u001b[1;34m(repo_file)\u001b[0m\n\u001b[0;32m    212\u001b[0m \u001b[39mdef\u001b[39;00m \u001b[39m_inner_hf_hub_download\u001b[39m(repo_file: \u001b[39mstr\u001b[39m):\n\u001b[1;32m--> 213\u001b[0m     \u001b[39mreturn\u001b[39;00m hf_hub_download(\n\u001b[0;32m    214\u001b[0m         repo_id,\n\u001b[0;32m    215\u001b[0m         filename\u001b[39m=\u001b[39mrepo_file,\n\u001b[0;32m    216\u001b[0m         repo_type\u001b[39m=\u001b[39mrepo_type,\n\u001b[0;32m    217\u001b[0m         revision\u001b[39m=\u001b[39mcommit_hash,\n\u001b[0;32m    218\u001b[0m         endpoint\u001b[39m=\u001b[39mendpoint,\n\u001b[0;32m    219\u001b[0m         cache_dir\u001b[39m=\u001b[39mcache_dir,\n\u001b[0;32m    220\u001b[0m         local_dir\u001b[39m=\u001b[39mlocal_dir,\n\u001b[0;32m    221\u001b[0m         local_dir_use_symlinks\u001b[39m=\u001b[39mlocal_dir_use_symlinks,\n\u001b[0;32m    222\u001b[0m         library_name\u001b[39m=\u001b[39mlibrary_name,\n\u001b[0;32m    223\u001b[0m         library_version\u001b[39m=\u001b[39mlibrary_version,\n\u001b[0;32m    224\u001b[0m         user_agent\u001b[39m=\u001b[39muser_agent,\n\u001b[0;32m    225\u001b[0m         proxies\u001b[39m=\u001b[39mproxies,\n\u001b[0;32m    226\u001b[0m         etag_timeout\u001b[39m=\u001b[39metag_timeout,\n\u001b[0;32m    227\u001b[0m         resume_download\u001b[39m=\u001b[39mresume_download,\n\u001b[0;32m    228\u001b[0m         force_download\u001b[39m=\u001b[39mforce_download,\n\u001b[0;32m    229\u001b[0m         token\u001b[39m=\u001b[39mtoken,\n\u001b[0;32m    230\u001b[0m     )\n",
      "File \u001b[1;32mc:\\Users\\jafet\\anaconda3\\Lib\\site-packages\\huggingface_hub\\utils\\_validators.py:118\u001b[0m, in \u001b[0;36mvalidate_hf_hub_args.<locals>._inner_fn\u001b[1;34m(*args, **kwargs)\u001b[0m\n\u001b[0;32m    115\u001b[0m \u001b[39mif\u001b[39;00m check_use_auth_token:\n\u001b[0;32m    116\u001b[0m     kwargs \u001b[39m=\u001b[39m smoothly_deprecate_use_auth_token(fn_name\u001b[39m=\u001b[39mfn\u001b[39m.\u001b[39m\u001b[39m__name__\u001b[39m, has_token\u001b[39m=\u001b[39mhas_token, kwargs\u001b[39m=\u001b[39mkwargs)\n\u001b[1;32m--> 118\u001b[0m \u001b[39mreturn\u001b[39;00m fn(\u001b[39m*\u001b[39margs, \u001b[39m*\u001b[39m\u001b[39m*\u001b[39mkwargs)\n",
      "File \u001b[1;32mc:\\Users\\jafet\\anaconda3\\Lib\\site-packages\\huggingface_hub\\file_download.py:1473\u001b[0m, in \u001b[0;36mhf_hub_download\u001b[1;34m(repo_id, filename, subfolder, repo_type, revision, library_name, library_version, cache_dir, local_dir, local_dir_use_symlinks, user_agent, force_download, force_filename, proxies, etag_timeout, resume_download, token, local_files_only, legacy_cache_layout, endpoint)\u001b[0m\n\u001b[0;32m   1471\u001b[0m     logger\u001b[39m.\u001b[39mdebug(\u001b[39mf\u001b[39m\u001b[39m\"\u001b[39m\u001b[39mStoring \u001b[39m\u001b[39m{\u001b[39;00murl\u001b[39m}\u001b[39;00m\u001b[39m in cache at \u001b[39m\u001b[39m{\u001b[39;00mblob_path\u001b[39m}\u001b[39;00m\u001b[39m\"\u001b[39m)\n\u001b[0;32m   1472\u001b[0m     _chmod_and_replace(temp_file\u001b[39m.\u001b[39mname, blob_path)\n\u001b[1;32m-> 1473\u001b[0m     _create_symlink(blob_path, pointer_path, new_blob\u001b[39m=\u001b[39m\u001b[39mTrue\u001b[39;00m)\n\u001b[0;32m   1474\u001b[0m \u001b[39melse\u001b[39;00m:\n\u001b[0;32m   1475\u001b[0m     local_dir_filepath \u001b[39m=\u001b[39m os\u001b[39m.\u001b[39mpath\u001b[39m.\u001b[39mjoin(local_dir, relative_filename)\n",
      "File \u001b[1;32mc:\\Users\\jafet\\anaconda3\\Lib\\site-packages\\huggingface_hub\\file_download.py:932\u001b[0m, in \u001b[0;36m_create_symlink\u001b[1;34m(src, dst, new_blob)\u001b[0m\n\u001b[0;32m    930\u001b[0m logger\u001b[39m.\u001b[39mdebug(\u001b[39mf\u001b[39m\u001b[39m\"\u001b[39m\u001b[39mCreating pointer from \u001b[39m\u001b[39m{\u001b[39;00msrc_rel_or_abs\u001b[39m}\u001b[39;00m\u001b[39m to \u001b[39m\u001b[39m{\u001b[39;00mabs_dst\u001b[39m}\u001b[39;00m\u001b[39m\"\u001b[39m)\n\u001b[0;32m    931\u001b[0m \u001b[39mtry\u001b[39;00m:\n\u001b[1;32m--> 932\u001b[0m     os\u001b[39m.\u001b[39msymlink(src_rel_or_abs, abs_dst)\n\u001b[0;32m    933\u001b[0m \u001b[39mexcept\u001b[39;00m \u001b[39mFileExistsError\u001b[39;00m:\n\u001b[0;32m    934\u001b[0m     \u001b[39mif\u001b[39;00m os\u001b[39m.\u001b[39mpath\u001b[39m.\u001b[39mislink(abs_dst) \u001b[39mand\u001b[39;00m os\u001b[39m.\u001b[39mpath\u001b[39m.\u001b[39mrealpath(abs_dst) \u001b[39m==\u001b[39m os\u001b[39m.\u001b[39mpath\u001b[39m.\u001b[39mrealpath(abs_src):\n\u001b[0;32m    935\u001b[0m         \u001b[39m# `abs_dst` already exists and is a symlink to the `abs_src` blob. It is most likely that the file has\u001b[39;00m\n\u001b[0;32m    936\u001b[0m         \u001b[39m# been cached twice concurrently (exactly between `os.remove` and `os.symlink`). Do nothing.\u001b[39;00m\n",
      "\u001b[1;31mOSError\u001b[0m: [WinError 1314] A required privilege is not held by the client: '..\\\\..\\\\blobs\\\\33ab5e6f93fe352338b6837f32849e9815c3bd08' -> 'C:\\\\Users\\\\jafet\\\\.cache\\\\huggingface\\\\hub\\\\models--SmilingWolf--wd-v1-4-vit-tagger\\\\snapshots\\\\213a7bd66d93407911b8217e806a95edc3593eed\\\\selected_tags.csv'"
     ]
    }
   ],
   "source": [
    "x,y  = generate_caption_and_tags(\"images/rem_1.jpg\")"
   ]
  },
  {
   "cell_type": "code",
   "execution_count": 9,
   "metadata": {},
   "outputs": [
    {
     "data": {
      "text/plain": [
       "[{'generated_text': 'a girl with blue hair and a white dress'}]"
      ]
     },
     "execution_count": 9,
     "metadata": {},
     "output_type": "execute_result"
    }
   ],
   "source": [
    "x"
   ]
  }
 ],
 "metadata": {
  "kernelspec": {
   "display_name": "sd",
   "language": "python",
   "name": "python3"
  },
  "language_info": {
   "codemirror_mode": {
    "name": "ipython",
    "version": 3
   },
   "file_extension": ".py",
   "mimetype": "text/x-python",
   "name": "python",
   "nbconvert_exporter": "python",
   "pygments_lexer": "ipython3",
   "version": "3.11.5"
  }
 },
 "nbformat": 4,
 "nbformat_minor": 2
}
